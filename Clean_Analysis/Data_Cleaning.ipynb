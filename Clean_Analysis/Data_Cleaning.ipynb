{
 "cells": [
  {
   "cell_type": "code",
   "execution_count": 9,
   "id": "agreed-gathering",
   "metadata": {},
   "outputs": [],
   "source": [
    "# import dependency\n",
    "import pandas as pd\n",
    "import matplotlib.pyplot as plt\n",
    "import numpy as np\n",
    "import os"
   ]
  },
  {
   "cell_type": "code",
   "execution_count": 3,
   "id": "afraid-seven",
   "metadata": {},
   "outputs": [],
   "source": [
    "# read the raw data\n",
    "df = pd.read_csv('../Data/covid_analytics_clinical_data.csv')"
   ]
  },
  {
   "cell_type": "code",
   "execution_count": 4,
   "id": "criminal-clark",
   "metadata": {},
   "outputs": [],
   "source": [
    "df.head();"
   ]
  },
  {
   "cell_type": "code",
   "execution_count": 5,
   "id": "right-livestock",
   "metadata": {},
   "outputs": [],
   "source": [
    "# drop rows with no mortality and gender data \n",
    "wo_mortality = df.dropna(axis=0, subset=['Mortality', '% Male'])\n",
    "wo_mortality;"
   ]
  },
  {
   "cell_type": "code",
   "execution_count": 6,
   "id": "sitting-freedom",
   "metadata": {},
   "outputs": [],
   "source": [
    "# drop rows without value on all symptoms\n",
    "dropped_no_symptoms = wo_mortality.dropna(subset=['Fever (temperature ≥37·3°C)', 'Cough', \n",
    "                                          'Shortness of Breath (dyspnoea)', 'Headache', \n",
    "                                          'Sputum (/Expectoration)', 'Myalgia (Muscle Pain)', \n",
    "                                          'Fatigue', 'Upper air-way congestion', 'Diarrhoea', \n",
    "                                          'Nausea or Vomiting', 'Loss of Appetite/Anorexia', \n",
    "                                          'Sore Throat/Stuffy Nose', 'Chills', 'Chest Pain', \n",
    "                                          'Loss of smell/taste', 'Disease Severity Asymptomatic'], how='all')\n",
    "dropped_no_symptoms;"
   ]
  },
  {
   "cell_type": "code",
   "execution_count": 7,
   "id": "graphic-istanbul",
   "metadata": {},
   "outputs": [],
   "source": [
    "# create a new dataframe with selected columns\n",
    "columns = ['ID','Country','Province/State','Study Pop Size (N)','Positive/negative cases',\n",
    "         'Mean Age','% Male','% White or European','% African American','% Asian','% Hispanic or Latino',\n",
    "          '% Multiple ethnicities or other','Smoking history','Hypertension,Diabetes',\n",
    "         ' Cardiovascular Disease (incl. CAD)','Chronic obstructive lung (COPD)','Cancer (Any)',\n",
    "          'Liver Disease (any)','Cerebrovascular Disease','Chronic kidney/renal disease,Other',\n",
    "          'Fever (temperature ≥37·3°C)','Respiratory rate > 24 breaths per min','Cough',\n",
    "          'Shortness of Breath (dyspnoea)','Headache,Sputum (/Expectoration)','Myalgia (Muscle Pain)',\n",
    "          'Fatigue','Upper air-way congestion','Diarrhoea','Nausea or Vomiting','Loss of Appetite/Anorexia',\n",
    "         ' Sore Throat/Stuffy Nose','Chills','Chest Pain','Loss of smell/taste','Disease Severity Asymptomatic',\n",
    "          'Mortality']\n",
    "\n",
    "\n",
    "new_df = dropped_no_symptoms.reindex(columns=columns)\n",
    "new_df;"
   ]
  },
  {
   "cell_type": "code",
   "execution_count": 8,
   "id": "engaged-custom",
   "metadata": {},
   "outputs": [],
   "source": [
    "# master data\n",
    "new_df.to_csv('../Data/raw_data_data.csv', index=False)"
   ]
  },
  {
   "cell_type": "code",
   "execution_count": 9,
   "id": "economic-faith",
   "metadata": {},
   "outputs": [],
   "source": [
    "# Calculated for mean age based on median age, upper and lower quartiles on excel \n",
    "# Dropped if inadequate data to calculate mean age\n",
    "# File renamed as raw_data.csv"
   ]
  },
  {
   "cell_type": "code",
   "execution_count": 15,
   "id": "altered-fabric",
   "metadata": {},
   "outputs": [],
   "source": [
    "# Read edited file \n",
    "df = pd.read_csv('../Data/raw_data.csv')"
   ]
  },
  {
   "cell_type": "code",
   "execution_count": 16,
   "id": "structured-explorer",
   "metadata": {},
   "outputs": [],
   "source": [
    "# grabbing all columns \n",
    "my_list = df.columns.values.tolist()\n",
    "my_list;"
   ]
  },
  {
   "cell_type": "code",
   "execution_count": 17,
   "id": "fiscal-sentence",
   "metadata": {},
   "outputs": [],
   "source": [
    "# Find any Nan cells \n",
    "df.isnull();"
   ]
  },
  {
   "cell_type": "code",
   "execution_count": 18,
   "id": "several-tower",
   "metadata": {},
   "outputs": [],
   "source": [
    "# Fill with 0 values \n",
    "new_df=df.fillna(0.0)"
   ]
  },
  {
   "cell_type": "code",
   "execution_count": 20,
   "id": "fundamental-canal",
   "metadata": {},
   "outputs": [],
   "source": [
    "new_df.dtypes;"
   ]
  },
  {
   "cell_type": "code",
   "execution_count": 22,
   "id": "improved-prospect",
   "metadata": {},
   "outputs": [],
   "source": [
    "# Find sum of mortality column and statistical summary \n",
    "new_df['Mortality'].sum()\n",
    "new_df['Mortality'].describe();"
   ]
  },
  {
   "cell_type": "code",
   "execution_count": 23,
   "id": "magnetic-graduate",
   "metadata": {},
   "outputs": [],
   "source": [
    "# Convert mortality to binary values for logistic regression \n",
    "mortality_bin=[]\n",
    "for i in new_df['Mortality']:\n",
    "    if i>0.123: #using mean as value to discriminate between mortality of 1 or 0 \n",
    "        mortality_bin.append(1)\n",
    "    else:\n",
    "        mortality_bin.append(0)\n",
    "new_df['Mortality_bin']=mortality_bin"
   ]
  },
  {
   "cell_type": "code",
   "execution_count": 24,
   "id": "promising-slovakia",
   "metadata": {},
   "outputs": [
    {
     "data": {
      "text/plain": [
       "288"
      ]
     },
     "execution_count": 24,
     "metadata": {},
     "output_type": "execute_result"
    }
   ],
   "source": [
    "# New sum of mortality bin column to compare to previous mortality column sum\n",
    "new_df['Mortality_bin'].sum()"
   ]
  },
  {
   "cell_type": "code",
   "execution_count": 26,
   "id": "aggregate-excess",
   "metadata": {},
   "outputs": [],
   "source": [
    "new_df;"
   ]
  },
  {
   "cell_type": "code",
   "execution_count": 31,
   "id": "toxic-costs",
   "metadata": {},
   "outputs": [],
   "source": [
    "# select columns needed for data analysis\n",
    "column_names = ['ID', 'Country', 'Province/State', 'Study Pop Size (N)', 'Positive/negative cases', 'Mean Age',\n",
    "                '% Male','% White or European','% African American','% Asian','% Hispanic or Latino','% Multiple ethnicities or other','Smoking history', 'Hypertension', 'Diabetes', 'Cardiovascular Disease (incl. CAD)',\n",
    "                'Chronic obstructive lung (COPD)', 'Cancer (Any)', 'Liver Disease (any)', 'Cerebrovascular Disease',\n",
    "                'Chronic kidney/renal disease', 'Other', 'Fever (temperature ≥37·3°C)', 'Respiratory rate > 24 breaths per min',\n",
    "                'Cough', 'Shortness of Breath (dyspnoea)', 'Headache', 'Sputum (/Expectoration)', 'Myalgia (Muscle Pain)',\n",
    "                'Fatigue', 'Upper air-way congestion', 'Diarrhoea', 'Nausea or Vomiting', 'Loss of Appetite/Anorexia',\n",
    "                'Sore Throat/Stuffy Nose', 'Chills', 'Chest Pain', 'Loss of smell/taste', 'Disease Severity Asymptomatic',\n",
    "                'Mortality','Mortality_bin']\n",
    "data = new_df.reindex(columns=column_names)\n",
    "data;"
   ]
  },
  {
   "cell_type": "code",
   "execution_count": 28,
   "id": "classical-video",
   "metadata": {},
   "outputs": [],
   "source": [
    "# cleaned data ready for database \n",
    "data.to_csv('../Data/cleaned_data.csv', index=False)"
   ]
  },
  {
   "cell_type": "code",
   "execution_count": null,
   "id": "mineral-nursery",
   "metadata": {},
   "outputs": [],
   "source": []
  }
 ],
 "metadata": {
  "kernelspec": {
   "display_name": "Python 3",
   "language": "python",
   "name": "python3"
  },
  "language_info": {
   "codemirror_mode": {
    "name": "ipython",
    "version": 3
   },
   "file_extension": ".py",
   "mimetype": "text/x-python",
   "name": "python",
   "nbconvert_exporter": "python",
   "pygments_lexer": "ipython3",
   "version": "3.8.5"
  }
 },
 "nbformat": 4,
 "nbformat_minor": 5
}
