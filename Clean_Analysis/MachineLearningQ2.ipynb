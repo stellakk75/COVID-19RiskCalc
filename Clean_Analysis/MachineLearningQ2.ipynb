{
 "cells": [
  {
   "cell_type": "markdown",
   "id": "ranging-scientist",
   "metadata": {},
   "source": [
    "Q: How much more likely is certain preexisting conditions/symptoms to be related to high mortality? "
   ]
  },
  {
   "cell_type": "code",
   "execution_count": 2,
   "id": "double-antarctica",
   "metadata": {},
   "outputs": [],
   "source": [
    "# Import dependencies \n",
    "import matplotlib.pyplot as plt\n",
    "import pandas as pd\n",
    "import numpy as np\n",
    "import os\n",
    "from sklearn import tree\n",
    "\n",
    "# Database \n",
    "import psycopg2\n",
    "import config as creds"
   ]
  },
  {
   "cell_type": "code",
   "execution_count": 3,
   "id": "differential-jumping",
   "metadata": {},
   "outputs": [],
   "source": [
    "# Connecting to database \n",
    "conn_string = \"host=\"+ creds.PGHOST +\" port=\"+ \"5432\" +\" dbname=\"+ creds.PGDATABASE +\" user=\" + creds.PGUSER \\\n",
    "                  +\" password=\"+ creds.PGPASSWORD\n",
    "conn = psycopg2.connect(conn_string)"
   ]
  },
  {
   "cell_type": "code",
   "execution_count": 4,
   "id": "incident-accessory",
   "metadata": {},
   "outputs": [],
   "source": [
    "covid_df = pd.read_sql_query(\n",
    "                   ''' SELECT * FROM coviddata \n",
    "                   ''' , conn)"
   ]
  },
  {
   "cell_type": "code",
   "execution_count": 5,
   "id": "junior-publication",
   "metadata": {},
   "outputs": [],
   "source": [
    "covid_df;"
   ]
  },
  {
   "cell_type": "code",
   "execution_count": 7,
   "id": "racial-customer",
   "metadata": {},
   "outputs": [],
   "source": [
    "# Drop header row \n",
    "covid_df = covid_df.iloc[1:]\n"
   ]
  },
  {
   "cell_type": "code",
   "execution_count": 9,
   "id": "equivalent-hardware",
   "metadata": {},
   "outputs": [],
   "source": [
    "# Grabbing relevant column names that contribute to covid risk factors \n",
    "column_names = ['meanage','male','smoking', 'hypertension', 'diabetes', 'cardiovasculardisease',\n",
    "                'lungdisease', 'cancer', 'liverdisease', 'cerebrovasculardisease',\n",
    "                'chronickidneydisease', 'otherconditions', 'fever', 'tachypnea',\n",
    "                'cough', 'shortofbreath', 'headache', 'sputum', 'muscleaches',\n",
    "                'fatigue', 'upperairwaycongestion', 'diarrhea', 'nauseavomiting', 'appetiteloss',\n",
    "                'sorethroatstuffynose', 'chills', 'chest_pain', 'smelltasteloss', 'nosymptoms',\n",
    "                'mortality_bin']\n",
    "\n",
    "new_df = covid_df[column_names]\n",
    "new_df;"
   ]
  },
  {
   "cell_type": "code",
   "execution_count": 11,
   "id": "located-jacksonville",
   "metadata": {},
   "outputs": [],
   "source": [
    "# Convert string to floats \n",
    "new_df=new_df.astype(str).astype(float)"
   ]
  },
  {
   "cell_type": "code",
   "execution_count": 12,
   "id": "advanced-dancing",
   "metadata": {},
   "outputs": [],
   "source": [
    "# Rename column\n",
    "new_df = new_df.rename(columns={\"mortality_bin\": \"Mortality_bin\"})"
   ]
  },
  {
   "cell_type": "code",
   "execution_count": 13,
   "id": "false-fence",
   "metadata": {},
   "outputs": [],
   "source": [
    "# Assigning variables for Classifier Modeling\n",
    "data = new_df.drop(\"Mortality_bin\", axis=1)\n",
    "feature_names = data.columns\n",
    "target=new_df['Mortality_bin']\n",
    "target_names=['low_risk','high_risk']"
   ]
  },
  {
   "cell_type": "code",
   "execution_count": 14,
   "id": "needed-google",
   "metadata": {},
   "outputs": [],
   "source": [
    "# Split test/train data \n",
    "from sklearn.model_selection import train_test_split\n",
    "X_train, X_test, y_train, y_test = train_test_split(data, target, random_state=1)"
   ]
  },
  {
   "cell_type": "code",
   "execution_count": 15,
   "id": "enclosed-harbor",
   "metadata": {},
   "outputs": [
    {
     "data": {
      "text/plain": [
       "1.0"
      ]
     },
     "execution_count": 15,
     "metadata": {},
     "output_type": "execute_result"
    }
   ],
   "source": [
    "# Decision tree classifier returns 100% \n",
    "clf = tree.DecisionTreeClassifier()\n",
    "clf = clf.fit(X_train, y_train)  \n",
    "clf.score(X_test, y_test)"
   ]
  },
  {
   "cell_type": "code",
   "execution_count": 16,
   "id": "specific-commerce",
   "metadata": {},
   "outputs": [
    {
     "data": {
      "text/plain": [
       "1.0"
      ]
     },
     "execution_count": 16,
     "metadata": {},
     "output_type": "execute_result"
    }
   ],
   "source": [
    "# Decision random forest classifier also returns 100% \n",
    "from sklearn.ensemble import RandomForestClassifier\n",
    "rf = RandomForestClassifier(n_estimators=300)\n",
    "rf = rf.fit(X_train, y_train)\n",
    "rf.score(X_test, y_test)"
   ]
  },
  {
   "cell_type": "code",
   "execution_count": 17,
   "id": "younger-crystal",
   "metadata": {},
   "outputs": [
    {
     "data": {
      "text/plain": [
       "[(0.18319779906000747, 'diabetes'),\n",
       " (0.08065168026916218, 'hypertension'),\n",
       " (0.07596551410234265, 'chronickidneydisease'),\n",
       " (0.07312948304937791, 'meanage'),\n",
       " (0.07095129723320824, 'lungdisease'),\n",
       " (0.06487135061714323, 'cardiovasculardisease'),\n",
       " (0.04702196224443452, 'cancer'),\n",
       " (0.04648069087787865, 'male'),\n",
       " (0.04455780610954689, 'shortofbreath'),\n",
       " (0.03860893527582657, 'fever'),\n",
       " (0.03029291412230008, 'tachypnea'),\n",
       " (0.030010713763954516, 'cerebrovasculardisease'),\n",
       " (0.028858513751823998, 'cough'),\n",
       " (0.027176414314479688, 'diarrhea'),\n",
       " (0.024780884884134446, 'muscleaches'),\n",
       " (0.023449535786043016, 'fatigue'),\n",
       " (0.014511883881708211, 'nauseavomiting'),\n",
       " (0.014216335459847799, 'otherconditions'),\n",
       " (0.014158199514179624, 'smoking'),\n",
       " (0.013228345721836812, 'liverdisease'),\n",
       " (0.013014298005028943, 'sputum'),\n",
       " (0.011652447740000037, 'headache'),\n",
       " (0.009769621507072335, 'sorethroatstuffynose'),\n",
       " (0.00938126495711403, 'chest_pain'),\n",
       " (0.006050378836654203, 'appetiteloss'),\n",
       " (0.0019019079139828167, 'nosymptoms'),\n",
       " (0.0014505383597250177, 'chills'),\n",
       " (0.000649419833186484, 'upperairwaycongestion'),\n",
       " (9.862807999453955e-06, 'smelltasteloss')]"
      ]
     },
     "execution_count": 17,
     "metadata": {},
     "output_type": "execute_result"
    }
   ],
   "source": [
    "# Looking at feature importances\n",
    "sorted(zip(rf.feature_importances_, feature_names), reverse=True) "
   ]
  },
  {
   "cell_type": "code",
   "execution_count": 20,
   "id": "younger-smoke",
   "metadata": {},
   "outputs": [],
   "source": [
    "# Grabbing top 6 underlying illness and symptoms and age/gender as factors based on feature importance\n",
    "column_names = ['meanage','male','hypertension', 'diabetes', 'cardiovasculardisease',\n",
    "                'lungdisease', 'cancer', 'chronickidneydisease', 'fever', 'tachypnea',\n",
    "                'cough', 'shortofbreath',  'diarrhea',\n",
    "                'fatigue',\n",
    "                'Mortality_bin']\n",
    "factors = pd.DataFrame(new_df,columns=column_names)\n",
    "factors;\n"
   ]
  },
  {
   "cell_type": "code",
   "execution_count": 21,
   "id": "touched-premium",
   "metadata": {},
   "outputs": [],
   "source": [
    "# Assigning variables for logistic regression \n",
    "X = factors.drop('Mortality_bin', axis=1)\n",
    "y = factors['Mortality_bin']\n",
    "\n",
    "# Split test/train data to 80% train for optimize model score \n",
    "from sklearn.model_selection import train_test_split\n",
    "X_train, X_test, y_train, y_test = train_test_split(X, y,train_size=.80, random_state=1)\n"
   ]
  },
  {
   "cell_type": "code",
   "execution_count": 22,
   "id": "accessory-nigeria",
   "metadata": {},
   "outputs": [
    {
     "data": {
      "text/plain": [
       "LogisticRegression(max_iter=300)"
      ]
     },
     "execution_count": 22,
     "metadata": {},
     "output_type": "execute_result"
    }
   ],
   "source": [
    "# Importing logistic regression \n",
    "from sklearn.linear_model import LogisticRegression\n",
    "classifier = LogisticRegression(max_iter=300)\n",
    "classifier\n"
   ]
  },
  {
   "cell_type": "code",
   "execution_count": 23,
   "id": "aggressive-portfolio",
   "metadata": {},
   "outputs": [
    {
     "data": {
      "text/plain": [
       "LogisticRegression(max_iter=300)"
      ]
     },
     "execution_count": 23,
     "metadata": {},
     "output_type": "execute_result"
    }
   ],
   "source": [
    "# Fit training data \n",
    "classifier.fit(X_train, y_train)"
   ]
  },
  {
   "cell_type": "code",
   "execution_count": 24,
   "id": "reported-allowance",
   "metadata": {},
   "outputs": [
    {
     "name": "stdout",
     "output_type": "stream",
     "text": [
      "Training Data Score: 0.875\n"
     ]
    }
   ],
   "source": [
    "# Logistic Regression model score \n",
    "print(f\"Training Data Score: {classifier.score(X_test, y_test)}\")"
   ]
  },
  {
   "cell_type": "code",
   "execution_count": 25,
   "id": "fallen-maximum",
   "metadata": {},
   "outputs": [],
   "source": [
    "# Using classifier for predictions\n",
    "predictions = classifier.predict(X_test)\n",
    "result=pd.DataFrame({\"Prediction\": predictions, \"Actual\": y_test}).head(25)\n",
    "result;"
   ]
  },
  {
   "cell_type": "code",
   "execution_count": 26,
   "id": "streaming-nylon",
   "metadata": {},
   "outputs": [
    {
     "name": "stdout",
     "output_type": "stream",
     "text": [
      "              precision    recall  f1-score   support\n",
      "\n",
      "    low risk       0.92      0.93      0.92       188\n",
      "   high risk       0.67      0.66      0.67        44\n",
      "\n",
      "    accuracy                           0.88       232\n",
      "   macro avg       0.80      0.79      0.79       232\n",
      "weighted avg       0.87      0.88      0.87       232\n",
      "\n"
     ]
    }
   ],
   "source": [
    "# Printing f-score in classification report \n",
    "from sklearn.metrics import classification_report\n",
    "print(classification_report (y_test, predictions, target_names = ['low risk','high risk']))"
   ]
  },
  {
   "cell_type": "code",
   "execution_count": 27,
   "id": "democratic-diameter",
   "metadata": {},
   "outputs": [
    {
     "data": {
      "text/html": [
       "<div>\n",
       "<style scoped>\n",
       "    .dataframe tbody tr th:only-of-type {\n",
       "        vertical-align: middle;\n",
       "    }\n",
       "\n",
       "    .dataframe tbody tr th {\n",
       "        vertical-align: top;\n",
       "    }\n",
       "\n",
       "    .dataframe thead th {\n",
       "        text-align: right;\n",
       "    }\n",
       "</style>\n",
       "<table border=\"1\" class=\"dataframe\">\n",
       "  <thead>\n",
       "    <tr style=\"text-align: right;\">\n",
       "      <th></th>\n",
       "      <th>precision</th>\n",
       "      <th>recall</th>\n",
       "      <th>f1-score</th>\n",
       "      <th>support</th>\n",
       "    </tr>\n",
       "  </thead>\n",
       "  <tbody>\n",
       "    <tr>\n",
       "      <th>low risk</th>\n",
       "      <td>0.920635</td>\n",
       "      <td>0.925532</td>\n",
       "      <td>0.923077</td>\n",
       "      <td>188.000</td>\n",
       "    </tr>\n",
       "    <tr>\n",
       "      <th>high risk</th>\n",
       "      <td>0.674419</td>\n",
       "      <td>0.659091</td>\n",
       "      <td>0.666667</td>\n",
       "      <td>44.000</td>\n",
       "    </tr>\n",
       "    <tr>\n",
       "      <th>accuracy</th>\n",
       "      <td>0.875000</td>\n",
       "      <td>0.875000</td>\n",
       "      <td>0.875000</td>\n",
       "      <td>0.875</td>\n",
       "    </tr>\n",
       "    <tr>\n",
       "      <th>macro avg</th>\n",
       "      <td>0.797527</td>\n",
       "      <td>0.792311</td>\n",
       "      <td>0.794872</td>\n",
       "      <td>232.000</td>\n",
       "    </tr>\n",
       "    <tr>\n",
       "      <th>weighted avg</th>\n",
       "      <td>0.873939</td>\n",
       "      <td>0.875000</td>\n",
       "      <td>0.874447</td>\n",
       "      <td>232.000</td>\n",
       "    </tr>\n",
       "  </tbody>\n",
       "</table>\n",
       "</div>"
      ],
      "text/plain": [
       "              precision    recall  f1-score  support\n",
       "low risk       0.920635  0.925532  0.923077  188.000\n",
       "high risk      0.674419  0.659091  0.666667   44.000\n",
       "accuracy       0.875000  0.875000  0.875000    0.875\n",
       "macro avg      0.797527  0.792311  0.794872  232.000\n",
       "weighted avg   0.873939  0.875000  0.874447  232.000"
      ]
     },
     "execution_count": 27,
     "metadata": {},
     "output_type": "execute_result"
    }
   ],
   "source": [
    "# Printing classification report as csv file \n",
    "report = classification_report (y_test, predictions, target_names = ['low risk','high risk'],output_dict=True)\n",
    "class_report=pd.DataFrame(report).transpose()\n",
    "class_report\n",
    "# class_report.to_csv('../static/pltImages/classificationReport.csv')"
   ]
  },
  {
   "cell_type": "code",
   "execution_count": 28,
   "id": "numerous-munich",
   "metadata": {},
   "outputs": [
    {
     "data": {
      "text/plain": [
       "array([[174,  14],\n",
       "       [ 15,  29]])"
      ]
     },
     "execution_count": 28,
     "metadata": {},
     "output_type": "execute_result"
    }
   ],
   "source": [
    "# Import sklearn for confusion matrix \n",
    "from sklearn.metrics import confusion_matrix\n",
    "matrix = confusion_matrix(y_test, predictions, labels = [0,1])\n",
    "matrix"
   ]
  },
  {
   "cell_type": "code",
   "execution_count": 29,
   "id": "requested-alliance",
   "metadata": {},
   "outputs": [
    {
     "data": {
      "image/png": "[encoded data removed]",
      "text/plain": [
       "<Figure size 432x288 with 2 Axes>"
      ]
     },
     "metadata": {
      "needs_background": "light"
     },
     "output_type": "display_data"
    }
   ],
   "source": [
    "# Visualize confusion matrix with % break down \n",
    "import seaborn as sns\n",
    "ax = plt.subplot()\n",
    "sns.heatmap(matrix/np.sum(matrix), annot=True, \n",
    "            fmt='.2%', cmap='Blues', ax=ax)\n",
    "ax.set_title('Confusion matrix of Logistic Regression')\n",
    "ax.set_xlabel('Predicted')\n",
    "ax.set_ylabel('True')\n",
    "ax.xaxis.set_ticklabels(['Low Risk','High Risk']); ax.yaxis.set_ticklabels(['Low Risk','High Risk']);\n",
    "\n",
    "plt.savefig('../static/pltImages/confusionMatrix.png');\n"
   ]
  },
  {
   "cell_type": "code",
   "execution_count": 30,
   "id": "knowing-privacy",
   "metadata": {},
   "outputs": [
    {
     "data": {
      "text/plain": [
       "<AxesSubplot:xlabel='Predicted', ylabel='Actual'>"
      ]
     },
     "execution_count": 30,
     "metadata": {},
     "output_type": "execute_result"
    },
    {
     "data": {
      "image/png": "[encoded data removed]",
      "text/plain": [
       "<Figure size 432x288 with 2 Axes>"
      ]
     },
     "metadata": {},
     "output_type": "display_data"
    }
   ],
   "source": [
    "# Visualize confusion matrix with values (alternate choice)\n",
    "labels = ['Low Risk','High Risk']\n",
    "data = confusion_matrix(y_test,predictions)\n",
    "data_df = pd.DataFrame(data, columns=labels, index = labels)\n",
    "data_df.index.name = 'Actual'\n",
    "data_df.columns.name = 'Predicted'\n",
    "# plt.figure(figsize = (10,7))\n",
    "sns.set(font_scale=1.4)#for label size\n",
    "sns.heatmap(data_df, cmap=\"Blues\", annot=True, fmt='g',annot_kws={\"size\": 14})# font size"
   ]
  },
  {
   "cell_type": "markdown",
   "id": "three-conversation",
   "metadata": {},
   "source": [
    "Test risk calculator "
   ]
  },
  {
   "cell_type": "code",
   "execution_count": 31,
   "id": "metric-shock",
   "metadata": {},
   "outputs": [
    {
     "data": {
      "text/plain": [
       "['meanage',\n",
       " 'male',\n",
       " 'hypertension',\n",
       " 'diabetes',\n",
       " 'cardiovasculardisease',\n",
       " 'lungdisease',\n",
       " 'cancer',\n",
       " 'chronickidneydisease',\n",
       " 'fever',\n",
       " 'tachypnea',\n",
       " 'cough',\n",
       " 'shortofbreath',\n",
       " 'diarrhea',\n",
       " 'fatigue',\n",
       " 'Mortality_bin']"
      ]
     },
     "execution_count": 31,
     "metadata": {},
     "output_type": "execute_result"
    }
   ],
   "source": [
    "list(factors)"
   ]
  },
  {
   "cell_type": "code",
   "execution_count": 32,
   "id": "double-delay",
   "metadata": {},
   "outputs": [],
   "source": [
    "# Testing new patient data \n",
    "new_patient = [26,1,0,1,0,0,0,0,1,0,0,0,0,0]\n"
   ]
  },
  {
   "cell_type": "code",
   "execution_count": 33,
   "id": "pediatric-panic",
   "metadata": {},
   "outputs": [
    {
     "data": {
      "text/plain": [
       "array([1.])"
      ]
     },
     "execution_count": 33,
     "metadata": {},
     "output_type": "execute_result"
    }
   ],
   "source": [
    "# Inputting new patient data for prediction\n",
    "data = np.array([new_patient]) \n",
    "predictions = classifier.predict(data)\n",
    "predictions"
   ]
  },
  {
   "cell_type": "code",
   "execution_count": 34,
   "id": "artificial-possible",
   "metadata": {},
   "outputs": [],
   "source": [
    "# Saving model to file \n",
    "import pickle\n",
    "filename='../LogisticRegression/predictorRisk2.sav'\n",
    "pickle.dump(classifier, open(filename,'wb'))"
   ]
  },
  {
   "cell_type": "code",
   "execution_count": null,
   "id": "sacred-packet",
   "metadata": {},
   "outputs": [],
   "source": []
  },
  {
   "cell_type": "code",
   "execution_count": null,
   "id": "minimal-albuquerque",
   "metadata": {},
   "outputs": [],
   "source": []
  }
 ],
 "metadata": {
  "kernelspec": {
   "display_name": "Python 3",
   "language": "python",
   "name": "python3"
  },
  "language_info": {
   "codemirror_mode": {
    "name": "ipython",
    "version": 3
   },
   "file_extension": ".py",
   "mimetype": "text/x-python",
   "name": "python",
   "nbconvert_exporter": "python",
   "pygments_lexer": "ipython3",
   "version": "3.8.5"
  }
 },
 "nbformat": 4,
 "nbformat_minor": 5
}
